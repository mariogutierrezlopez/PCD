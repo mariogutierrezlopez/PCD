{
 "cells": [
  {
   "cell_type": "markdown",
   "id": "3655cb43-c239-4352-a8d2-9043955428fc",
   "metadata": {},
   "source": [
    "<!-- PROFILE LINK -->\n",
    "\n",
    "<h1 style = \"text-align:center; font-size: 30px\">PROGRAMACIÓN CONCURRENTE Y DISTRIBUIDA</h1>\n",
    "<a href =\"https://github.com/mariogutierrezlopez\">\n",
    "<img src=\"https://avatars.githubusercontent.com/u/102418143?v=4\" style=\"float:left;vertical-align:centre\" width=\"110\" height=\"110\" title = \"Mario Gutiérrez López 22102041\">\n",
    "<a href =\"https://github.com/mariogutierrezlopez?tab=repositories\">\n",
    "<img src=\"https://media-exp1.licdn.com/dms/image/C4D0BAQEu_Aa76fcmPw/company-logo_200_200/0/1630998679429?e=2159024400&v=beta&t=2feC9GG7RWCWizTqsK5HzDWB1TL2DOQuAVwnMf6FFvk\" title = \"M21\" alt=\"UE\" width=\"110\" height=\"110\" style=\"float:right;vertical-align:centre\">"
   ]
  },
  {
   "cell_type": "markdown",
   "id": "f015cdb6-b9fd-4a3f-b85e-1ee24badd093",
   "metadata": {
    "tags": []
   },
   "source": [
    "# Hands on 01"
   ]
  },
  {
   "cell_type": "markdown",
   "id": "c989e9a6-f85e-4eff-9917-e3ba57f41355",
   "metadata": {
    "tags": []
   },
   "source": [
    "## Env. Setup, important commands"
   ]
  },
  {
   "cell_type": "code",
   "execution_count": null,
   "id": "e367c4d9-2a88-425d-be68-c1ed9d5146e7",
   "metadata": {},
   "outputs": [
    {
     "name": "stdout",
     "output_type": "stream",
     "text": [
      " El volumen de la unidad C es Windows 10 SSD\n",
      " El n£mero de serie del volumen es: F937-7770\n",
      "\n",
      " Directorio de C:\\Users\\USUARIO\\Documents\\CODIGO\\PROGRAMACIàN DISTRIBUIDA Y CONCURRENTE\n",
      "\n",
      "06/10/2022  18:58    <DIR>          .\n",
      "06/10/2022  18:58    <DIR>          ..\n",
      "06/10/2022  18:53    <DIR>          .ipynb_checkpoints\n",
      "28/09/2022  19:11            86.305 after.png\n",
      "28/09/2022  18:58    <DIR>          assets\n",
      "28/09/2022  18:58           103.675 before.PNG\n",
      "06/10/2022  18:54             3.975 Hands on 03.ipynb\n",
      "06/10/2022  17:57           232.605 HttpStatusCodes.png\n",
      "06/10/2022  18:53             4.273 Primer notebook, pruebas.ipynb\n",
      "06/10/2022  18:54           257.083 Prueba de que mi pc.....ipynb\n",
      "06/10/2022  18:58           316.177 Untitled.ipynb\n",
      "               7 archivos      1.004.093 bytes\n",
      "               4 dirs  858.986.442.752 bytes libres\n"
     ]
    }
   ],
   "source": [
    "ls"
   ]
  },
  {
   "cell_type": "code",
   "execution_count": null,
   "id": "e495e67b-a2cf-44b3-adc4-fff10de07687",
   "metadata": {},
   "outputs": [
    {
     "data": {
      "text/plain": [
       "'C:\\\\Users\\\\USUARIO\\\\Documents\\\\CODIGO\\\\PROGRAMACIÓN DISTRIBUIDA Y CONCURRENTE'"
      ]
     },
     "execution_count": 1,
     "metadata": {},
     "output_type": "execute_result"
    }
   ],
   "source": [
    "pwd"
   ]
  },
  {
   "cell_type": "code",
   "execution_count": null,
   "id": "938e15b3-4e1c-4578-a89f-04a18af53cec",
   "metadata": {},
   "outputs": [
    {
     "name": "stdout",
     "output_type": "stream",
     "text": [
      "On branch master\n",
      "Your branch is up to date with 'PCD/master'.\n",
      "\n",
      "nothing to commit, working tree clean\n"
     ]
    }
   ],
   "source": [
    "!git status info # Ver el estado del repositorio de github"
   ]
  },
  {
   "cell_type": "code",
   "execution_count": 1,
   "id": "32054266-e62b-433e-8a63-fb1f2504c8e1",
   "metadata": {},
   "outputs": [],
   "source": [
    "import os # Importa la librería de sistema operativo"
   ]
  },
  {
   "cell_type": "code",
   "execution_count": 2,
   "id": "363f325b-88ac-4ee2-8f55-c2a07807254b",
   "metadata": {},
   "outputs": [
    {
     "data": {
      "text/plain": [
       "16"
      ]
     },
     "execution_count": 2,
     "metadata": {},
     "output_type": "execute_result"
    }
   ],
   "source": [
    "os.cpu_count() # Muestra la lista de cores"
   ]
  },
  {
   "cell_type": "code",
   "execution_count": 38,
   "id": "3c30084c-8c21-4647-a31e-e8dca2eddde1",
   "metadata": {},
   "outputs": [
    {
     "data": {
      "text/plain": [
       "11424"
      ]
     },
     "execution_count": 38,
     "metadata": {},
     "output_type": "execute_result"
    }
   ],
   "source": [
    "os.getpid() # Muestra los recursos que está usando el programa"
   ]
  },
  {
   "cell_type": "code",
   "execution_count": 40,
   "id": "f4cc94e7-f562-495f-b6f7-186e4520a50f",
   "metadata": {},
   "outputs": [],
   "source": [
    "import platform as pl"
   ]
  },
  {
   "cell_type": "code",
   "execution_count": 41,
   "id": "0f552fb9-c906-4631-a5d7-c3f8943f4a3b",
   "metadata": {},
   "outputs": [
    {
     "data": {
      "text/plain": [
       "'3.10.7'"
      ]
     },
     "execution_count": 41,
     "metadata": {},
     "output_type": "execute_result"
    }
   ],
   "source": [
    "pl.python_version()"
   ]
  },
  {
   "cell_type": "code",
   "execution_count": 42,
   "id": "9f69bf93-2809-4352-b880-24bc7d4342e2",
   "metadata": {},
   "outputs": [
    {
     "data": {
      "text/plain": [
       "'C:\\\\Users\\\\USUARIO\\\\Documents\\\\CODIGO\\\\PROGRAMACIÓN DISTRIBUIDA Y CONCURRENTE'"
      ]
     },
     "execution_count": 42,
     "metadata": {},
     "output_type": "execute_result"
    }
   ],
   "source": [
    "pwd"
   ]
  },
  {
   "cell_type": "code",
   "execution_count": null,
   "id": "0fa21221-0eb0-49e0-8652-c85c793bc3e6",
   "metadata": {},
   "outputs": [],
   "source": []
  }
 ],
 "metadata": {
  "kernelspec": {
   "display_name": "Python 3 (ipykernel)",
   "language": "python",
   "name": "python3"
  },
  "language_info": {
   "codemirror_mode": {
    "name": "ipython",
    "version": 3
   },
   "file_extension": ".py",
   "mimetype": "text/x-python",
   "name": "python",
   "nbconvert_exporter": "python",
   "pygments_lexer": "ipython3",
   "version": "3.10.7"
  }
 },
 "nbformat": 4,
 "nbformat_minor": 5
}
