{
 "cells": [
  {
   "cell_type": "markdown",
   "id": "b0927e1f-c53c-4770-a19d-b811dfe0b0a9",
   "metadata": {},
   "source": [
    "<!-- PROFILE LINK -->\n",
    "\n",
    "<h1 style = \"text-align:center; font-size: 30px\">PROGRAMACIÓN CONCURRENTE Y DISTRIBUIDA</h1>\n",
    "<a href =\"https://github.com/mariogutierrezlopez\">\n",
    "<img src=\"https://avatars.githubusercontent.com/u/102418143?v=4\" style=\"float:left;vertical-align:centre\" width=\"110\" height=\"110\" title = \"Mario Gutiérrez López 22102041\">\n",
    "<a href =\"https://github.com/mariogutierrezlopez?tab=repositories\">\n",
    "<img src=\"https://media-exp1.licdn.com/dms/image/C4D0BAQEu_Aa76fcmPw/company-logo_200_200/0/1630998679429?e=2159024400&v=beta&t=2feC9GG7RWCWizTqsK5HzDWB1TL2DOQuAVwnMf6FFvk\" title = \"M21\" alt=\"UE\" width=\"110\" height=\"110\" style=\"float:right;vertical-align:centre\">\n",
    "\n"
   ]
  },
  {
   "cell_type": "markdown",
   "id": "00150dee-ff59-4550-901a-ba7f6616a62c",
   "metadata": {
    "tags": []
   },
   "source": [
    "### Hands on 03"
   ]
  },
  {
   "cell_type": "code",
   "execution_count": 26,
   "id": "60de9e46-8065-4ca9-961b-b1a15fd769c4",
   "metadata": {},
   "outputs": [],
   "source": [
    "import multiprocessing as mp, threading as th"
   ]
  },
  {
   "cell_type": "code",
   "execution_count": 27,
   "id": "c8bcdf49-4ce7-473a-9d20-bfe2e5334c29",
   "metadata": {},
   "outputs": [
    {
     "data": {
      "text/plain": [
       "16"
      ]
     },
     "execution_count": 27,
     "metadata": {},
     "output_type": "execute_result"
    }
   ],
   "source": [
    "mp.cpu_count() # Numero de Cores del CPU"
   ]
  },
  {
   "cell_type": "code",
   "execution_count": 28,
   "id": "c6e6ed14-fd68-42e6-8658-6e86eeb09e48",
   "metadata": {},
   "outputs": [
    {
     "data": {
      "text/plain": [
       "6"
      ]
     },
     "execution_count": 28,
     "metadata": {},
     "output_type": "execute_result"
    }
   ],
   "source": [
    "th.active_count() # Hilos que utiiliza el JupyterLab"
   ]
  },
  {
   "cell_type": "code",
   "execution_count": 29,
   "id": "079df534-4a5b-43f2-b505-159d3911a5a8",
   "metadata": {},
   "outputs": [
    {
     "data": {
      "text/plain": [
       "[<_MainThread(MainThread, started 13432)>,\n",
       " <Thread(IOPub, started daemon 6600)>,\n",
       " <Heartbeat(Heartbeat, started daemon 5564)>,\n",
       " <ControlThread(Control, started daemon 332)>,\n",
       " <HistorySavingThread(IPythonHistorySavingThread, started 2484)>,\n",
       " <ParentPollerWindows(Thread-4, started daemon 9840)>]"
      ]
     },
     "execution_count": 29,
     "metadata": {},
     "output_type": "execute_result"
    }
   ],
   "source": [
    "th.enumerate() # Enumerar los hilos activos"
   ]
  },
  {
   "cell_type": "code",
   "execution_count": 31,
   "id": "d8ca392e-71c0-4310-983c-73ecf4850ae4",
   "metadata": {},
   "outputs": [
    {
     "ename": "NameError",
     "evalue": "name 'ThreadPoolExecutor' is not defined",
     "output_type": "error",
     "traceback": [
      "\u001b[1;31m---------------------------------------------------------------------------\u001b[0m",
      "\u001b[1;31mNameError\u001b[0m                                 Traceback (most recent call last)",
      "Cell \u001b[1;32mIn [31], line 1\u001b[0m\n\u001b[1;32m----> 1\u001b[0m \u001b[43mThreadPoolExecutor\u001b[49m\n",
      "\u001b[1;31mNameError\u001b[0m: name 'ThreadPoolExecutor' is not defined"
     ]
    }
   ],
   "source": []
  }
 ],
 "metadata": {
  "kernelspec": {
   "display_name": "Python 3 (ipykernel)",
   "language": "python",
   "name": "python3"
  },
  "language_info": {
   "codemirror_mode": {
    "name": "ipython",
    "version": 3
   },
   "file_extension": ".py",
   "mimetype": "text/x-python",
   "name": "python",
   "nbconvert_exporter": "python",
   "pygments_lexer": "ipython3",
   "version": "3.10.7"
  }
 },
 "nbformat": 4,
 "nbformat_minor": 5
}
