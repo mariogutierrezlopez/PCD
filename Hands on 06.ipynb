{
 "cells": [
  {
   "cell_type": "markdown",
   "id": "a3bfb7cc",
   "metadata": {},
   "source": [
    "<!-- PROFILE LINK -->\n",
    "\n",
    "<h1 style = \"text-align:center; font-size: 30px\">PROGRAMACIÓN CONCURRENTE Y DISTRIBUIDA</h1>\n",
    "<a href =\"https://github.com/mariogutierrezlopez\">\n",
    "<img src=\"https://avatars.githubusercontent.com/u/102418143?v=4\" style=\"float:left;vertical-align:centre\" width=\"110\" height=\"110\" title = \"Mario Gutiérrez López 22102041\">\n",
    "<a href =\"https://github.com/mariogutierrezlopez?tab=repositories\">\n",
    "<img src=\"https://media-exp1.licdn.com/dms/image/C4D0BAQEu_Aa76fcmPw/company-logo_200_200/0/1630998679429?e=2159024400&v=beta&t=2feC9GG7RWCWizTqsK5HzDWB1TL2DOQuAVwnMf6FFvk\" title = \"M21\" alt=\"UE\" width=\"110\" height=\"110\" style=\"float:right;vertical-align:centre\">"
   ]
  },
  {
   "cell_type": "markdown",
   "id": "4c92c3cb",
   "metadata": {},
   "source": [
    "# Hands on 06"
   ]
  },
  {
   "cell_type": "code",
   "execution_count": 4,
   "id": "36e27666",
   "metadata": {},
   "outputs": [
    {
     "data": {
      "text/plain": [
       "'CPython'"
      ]
     },
     "execution_count": 4,
     "metadata": {},
     "output_type": "execute_result"
    }
   ],
   "source": [
    "import platform as pl\n",
    "pl.python_implementation()"
   ]
  },
  {
   "cell_type": "code",
   "execution_count": 5,
   "id": "0bbde683",
   "metadata": {},
   "outputs": [
    {
     "data": {
      "text/plain": [
       "5016"
      ]
     },
     "execution_count": 5,
     "metadata": {},
     "output_type": "execute_result"
    }
   ],
   "source": [
    "import os\n",
    "os.getpid() #Devuelve el ID del proceso"
   ]
  },
  {
   "cell_type": "code",
   "execution_count": 6,
   "id": "416b28db",
   "metadata": {},
   "outputs": [],
   "source": [
    "import socket as sc"
   ]
  }
 ],
 "metadata": {
  "kernelspec": {
   "display_name": "Python 3.10.7 64-bit",
   "language": "python",
   "name": "python3"
  },
  "language_info": {
   "codemirror_mode": {
    "name": "ipython",
    "version": 3
   },
   "file_extension": ".py",
   "mimetype": "text/x-python",
   "name": "python",
   "nbconvert_exporter": "python",
   "pygments_lexer": "ipython3",
   "version": "3.10.7"
  },
  "vscode": {
   "interpreter": {
    "hash": "110fe3fb9777db4ce1f884af3cc527a40b2c98427ad17781c021ef692bd3d28d"
   }
  }
 },
 "nbformat": 4,
 "nbformat_minor": 5
}
