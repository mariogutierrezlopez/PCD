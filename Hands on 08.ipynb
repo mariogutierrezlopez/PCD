{
 "cells": [
  {
   "cell_type": "markdown",
   "id": "a3bfb7cc",
   "metadata": {},
   "source": [
    "<!-- PROFILE LINK -->\n",
    "\n",
    "<h1 style = \"text-align:center; font-size: 30px\">PROGRAMACIÓN CONCURRENTE Y DISTRIBUIDA</h1>\n",
    "<a href =\"https://github.com/mariogutierrezlopez\">\n",
    "<img src=\"https://avatars.githubusercontent.com/u/102418143?v=4\" style=\"float:left;vertical-align:centre\" width=\"110\" height=\"110\" title = \"Mario Gutiérrez López 22102041\">\n",
    "<a href =\"https://github.com/mariogutierrezlopez?tab=repositories\">\n",
    "<img src=\"https://media-exp1.licdn.com/dms/image/C4D0BAQEu_Aa76fcmPw/company-logo_200_200/0/1630998679429?e=2159024400&v=beta&t=2feC9GG7RWCWizTqsK5HzDWB1TL2DOQuAVwnMf6FFvk\" title = \"M21\" alt=\"UE\" width=\"110\" height=\"110\" style=\"float:right;vertical-align:centre\">"
   ]
  },
  {
   "cell_type": "markdown",
   "id": "4c92c3cb",
   "metadata": {},
   "source": [
    "# Hands on 08"
   ]
  },
  {
   "cell_type": "markdown",
   "id": "0d6f79ad",
   "metadata": {},
   "source": [
    "# Tipos de operaciones sobre files\n",
    "rawx\n",
    "1. r = read\n",
    "2. a = append\n",
    "3. w = write\n",
    "4. x = create"
   ]
  },
  {
   "cell_type": "code",
   "execution_count": 18,
   "id": "132fd74c",
   "metadata": {},
   "outputs": [],
   "source": [
    "while True:\n",
    "    with open(\"22102041.txt\", \"a\") as f:\n",
    "        nick = input(\"Ingrese tu nickname ?\")\n",
    "        msg = input(\"Escribe un mensaje: \")\n",
    "        f.write(nick + \"_\" + msg)"
   ]
  },
  {
   "cell_type": "code",
   "execution_count": 4,
   "id": "c1971c54",
   "metadata": {},
   "outputs": [
    {
     "name": "stdout",
     "output_type": "stream",
     "text": [
      " El volumen de la unidad C es Windows 10 SSD\n",
      " El n�mero de serie del volumen es: F937-7770\n",
      "\n",
      " Directorio de c:\\Users\\USUARIO\\Documents\\CODIGO\\PROGRAMACI�N DISTRIBUIDA Y CONCURRENTE\n",
      "\n",
      "16/11/2022  17:53                 0 22102041.txt\n",
      "               1 archivos              0 bytes\n",
      "               0 dirs  818.664.247.296 bytes libres\n"
     ]
    }
   ],
   "source": [
    "ls 22102041.txt"
   ]
  },
  {
   "cell_type": "code",
   "execution_count": 2,
   "id": "96a1fcc8",
   "metadata": {},
   "outputs": [],
   "source": [
    "#Preguntas examen: Como se puede crear el usuario sin que pregunta la ip"
   ]
  },
  {
   "cell_type": "code",
   "execution_count": 5,
   "id": "a6eacf2b",
   "metadata": {},
   "outputs": [
    {
     "data": {
      "text/plain": [
       "('DESKTOP-0B4B0F0', [], ['10.34.80.26'])"
      ]
     },
     "execution_count": 5,
     "metadata": {},
     "output_type": "execute_result"
    }
   ],
   "source": [
    "import socket as sc\n",
    "sc.gethostbyname_ex(sc.gethostname())"
   ]
  },
  {
   "cell_type": "code",
   "execution_count": 10,
   "id": "6b96757d",
   "metadata": {},
   "outputs": [
    {
     "ename": "SyntaxError",
     "evalue": "invalid syntax (2206236461.py, line 1)",
     "output_type": "error",
     "traceback": [
      "\u001b[1;36m  Cell \u001b[1;32mIn [10], line 1\u001b[1;36m\u001b[0m\n\u001b[1;33m    ping 10.34.80.26\u001b[0m\n\u001b[1;37m         ^\u001b[0m\n\u001b[1;31mSyntaxError\u001b[0m\u001b[1;31m:\u001b[0m invalid syntax\n"
     ]
    }
   ],
   "source": [
    "ping 10.34.80.26"
   ]
  },
  {
   "cell_type": "code",
   "execution_count": 11,
   "id": "d07fd411",
   "metadata": {},
   "outputs": [],
   "source": [
    "url_ = \"https://es.stackoverflow.com/\""
   ]
  },
  {
   "cell_type": "code",
   "execution_count": 13,
   "id": "81cf269c",
   "metadata": {},
   "outputs": [
    {
     "ename": "TimeoutError",
     "evalue": "[WinError 10060] Se produjo un error durante el intento de conexión ya que la parte conectada no respondió adecuadamente tras un periodo de tiempo, o bien se produjo un error en la conexión establecida ya que el host conectado no ha podido responder",
     "output_type": "error",
     "traceback": [
      "\u001b[1;31m---------------------------------------------------------------------------\u001b[0m",
      "\u001b[1;31mTimeoutError\u001b[0m                              Traceback (most recent call last)",
      "Cell \u001b[1;32mIn [13], line 2\u001b[0m\n\u001b[0;32m      1\u001b[0m s \u001b[39m=\u001b[39m sc\u001b[39m.\u001b[39msocket()\n\u001b[1;32m----> 2\u001b[0m s\u001b[39m.\u001b[39;49mconnect((\u001b[39m\"\u001b[39;49m\u001b[39mwww.universidadeuropea.es\u001b[39;49m\u001b[39m\"\u001b[39;49m, \u001b[39m45477\u001b[39;49m))\n",
      "\u001b[1;31mTimeoutError\u001b[0m: [WinError 10060] Se produjo un error durante el intento de conexión ya que la parte conectada no respondió adecuadamente tras un periodo de tiempo, o bien se produjo un error en la conexión establecida ya que el host conectado no ha podido responder"
     ]
    }
   ],
   "source": [
    "s = sc.socket()\n",
    "s.connect((\"www.universidadeuropea.es\", 45477))"
   ]
  }
 ],
 "metadata": {
  "kernelspec": {
   "display_name": "Python 3.10.7 64-bit",
   "language": "python",
   "name": "python3"
  },
  "language_info": {
   "codemirror_mode": {
    "name": "ipython",
    "version": 3
   },
   "file_extension": ".py",
   "mimetype": "text/x-python",
   "name": "python",
   "nbconvert_exporter": "python",
   "pygments_lexer": "ipython3",
   "version": "3.10.7"
  },
  "vscode": {
   "interpreter": {
    "hash": "110fe3fb9777db4ce1f884af3cc527a40b2c98427ad17781c021ef692bd3d28d"
   }
  }
 },
 "nbformat": 4,
 "nbformat_minor": 5
}
