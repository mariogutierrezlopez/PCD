{
 "cells": [
  {
   "cell_type": "markdown",
   "metadata": {},
   "source": [
    "<!-- PROFILE LINK -->\n",
    "\n",
    "<h1 style = \"text-align:center; font-size: 30px\">PROGRAMACIÓN CONCURRENTE Y DISTRIBUIDA</h1>\n",
    "<a href =\"https://github.com/mariogutierrezlopez\">\n",
    "<img src=\"https://avatars.githubusercontent.com/u/102418143?v=4\" style=\"float:left;vertical-align:centre\" width=\"110\" height=\"110\" title = \"Mario Gutiérrez López 22102041\">\n",
    "<a href =\"https://github.com/mariogutierrezlopez?tab=repositories\">\n",
    "<img src=\"https://media-exp1.licdn.com/dms/image/C4D0BAQEu_Aa76fcmPw/company-logo_200_200/0/1630998679429?e=2159024400&v=beta&t=2feC9GG7RWCWizTqsK5HzDWB1TL2DOQuAVwnMf6FFvk\" title = \"M21\" alt=\"UE\" width=\"110\" height=\"110\" style=\"float:right;vertical-align:centre\">"
   ]
  },
  {
   "cell_type": "markdown",
   "metadata": {},
   "source": [
    "<a style=\"font-size: 30px\" href=\"https://github.com/mariogutierrezlopez/PCD/tree/master/u22102041AI1\"> Enlace a la carpeta del respositorio con la entrega </a>"
   ]
  },
  {
   "cell_type": "markdown",
   "metadata": {},
   "source": [
    "# Chat using Sockets | AI1\n",
    "\n",
    "El código fuente utilizado en estos ejemplos está en los archivos `servidor.py` y `cliente.py` en la misma carpeta que esta memoria\n",
    "\n",
    "<span style=\"color: red; font-weight: 700;\">Este código está separado en apartados para entenderlo mejor pero no es directamente ejecutable desde el notebook</span>\n",
    "\n",
    "<span style=\"font-style: italic;\" >Hay que ejecutarlo desde el terminal mediante los comandos `python cliente.py` y `python servidor.py` desde el terminal CMD o powershell </span>"
   ]
  },
  {
   "cell_type": "code",
   "execution_count": null,
   "metadata": {},
   "outputs": [],
   "source": [
    "from IPython import display as dp\n",
    "dp.Image(\"captura clientes.PNG\")"
   ]
  },
  {
   "cell_type": "markdown",
   "metadata": {},
   "source": [
    "<img src=\"./captura clientes.png\"/>"
   ]
  },
  {
   "cell_type": "markdown",
   "metadata": {},
   "source": [
    "<img src=\"./captura servidor.png\"/>"
   ]
  },
  {
   "cell_type": "markdown",
   "metadata": {},
   "source": [
    "### `Cliente.py`\n",
    "\n",
    "Importamos las bibliotecas que vamos a utilizar en el archivo"
   ]
  },
  {
   "cell_type": "code",
   "execution_count": 2,
   "metadata": {},
   "outputs": [],
   "source": [
    "import threading #Librería para instanciar hilos\n",
    "import sys #Funciones del sistema\n",
    "import socket #Para hablar con otra consola\n",
    "import pickle #Pasar a binario de forma mas rapida\n",
    "import os #Sistema operativo"
   ]
  },
  {
   "cell_type": "markdown",
   "metadata": {},
   "source": [
    "Ahora creo una clase `class Cliente()` con un método `__init__()` el cual es una palabra reservada de Python para el constructor de la clase, en este voy a declarar los atributos que va a tener la clase junto con la instanciación de los hilos\n",
    "\n",
    "\n"
   ]
  },
  {
   "cell_type": "code",
   "execution_count": 5,
   "metadata": {},
   "outputs": [],
   "source": [
    "def __init__(self,nickname = \"\", host=input(\"Intoduzca la IP del servidor ?  \"), port=int(input(\"Intoduzca el PUERTO del servidor ?  \"))):\n",
    "\t\t#Pregunta al sistema la IP y el puerto\n",
    "\t\tself.s = socket.socket() #Creo el objeto socket como atributo de cliente\n",
    "\t\t\n",
    "\t\t#Bucle while para obtener un string cliente válido\n",
    "\t\twhile (nickname == \"\"):\n",
    "\t\t\tnickname = input(\"Introduce el nickname correctamente: \")\n",
    "\t\tself.nickname = nickname #Creo un atributo nickname en el objeto cliente y le doy el valor recibido por teclado\n",
    "\n",
    "\t\t#Abro un archivo nicknameList.txt en modo appends donde vamos a guardar el usuario\n",
    "\t\twith open(\"nicknameList.txt\", \"a\") as f: \t\t\t\t\t\n",
    "\t\t\tf.write(self.nickname+\"\\n\")\t\t#Registro el nickname en este archivo txt\n",
    "\t\tself.s.connect((host, int(port))) #Me conecto al host y el puerto mediante el método socket.connect() el cual necesita una tupla con la IP y el puerto\n",
    "\t\t#Imprime el estado del programa\n",
    "\t\tprint('\\n\\tProceso con PID = ',os.getpid(), '\\n\\tHilo PRINCIPAL con ID =',threading.currentThread().getName(), '\\n\\tHilo en modo DAEMON = ', threading.currentThread().isDaemon(),'\\n\\tTotal Hilos activos en este punto del programa =', threading.active_count())\n",
    "\t\t\n",
    "\t\t#instanciamos un hilo demonio para que reciba la llamada, llama a la función recibir\n",
    "\t\tthreading.Thread(target=self.recibir, daemon=True).start()\n",
    "\t\t\n",
    "\t\t#Un while que está todo el tiempo escuchando\n",
    "\t\twhile True:\n",
    "\t\t\tmsg = input('\\nEscriba texto ?   ** Enviar = ENTER   ** Salir Chat = 1 \\n') #Recibe el texto\n",
    "\t\t\tif msg != '1' : self.enviar(msg) #Si el mensaje no es 1 envia el mensaje\n",
    "\t\t\telse: #Si el mensaje es 1 se cierra el socket\n",
    "\t\t\t\tprint(\" **** Me piro vampiro; cierro socket y mato al CLIENTE con PID = \", os.getpid()) #Imprimimos mensaje de despedida\n",
    "\t\t\t\tself.deleteNick(nickname) #Eliminamos el nickname del archivo nicknameList.txt\n",
    "\t\t\t\tself.s.close() #Cerramos el socket con el método socket.close()\n",
    "\t\t\t\tsys.exit() #Cerramos el sistema\n",
    "\t\t\t\t#Si dejo abierto el socket, eso se queda ahí, \"como cuando reservas una habitación de hotel y no la cancelas\"\n",
    "\t\t\t\t#por lo tanto es necesario cerrar el cliente con esos métodos"
   ]
  },
  {
   "cell_type": "markdown",
   "metadata": {},
   "source": [
    "Ahora creo otra función `eliminarNick()` que va a trabajar con el fichero de `nicknameList.txt` para eliminar el nick en caso de desconectarse"
   ]
  },
  {
   "cell_type": "code",
   "execution_count": 7,
   "metadata": {},
   "outputs": [],
   "source": [
    "#Función para eliminar el nickname del archivo txt dejando los demás archivos guardados\n",
    "def deleteNick(self, nick):\n",
    "    lineas = [] #Lineas es un array con los nicknames\n",
    "    with open(\"nicknameList.txt\", 'r') as f:\t #Abrimos el fichero nicknameLists en modo lectura\t\t\t\t\n",
    "                nicknames = f.readlines()\t\t#Array nicknames\n",
    "                for n in nicknames:\t\t\t\t#Recorremos el array de nicknames buscando el nick que le entregamos a la función por parámetro\n",
    "                    if (nick not in n):\t\t\t#Si no coincide, lo incluimos en el array lineas\n",
    "                        lineas.append(n)\n",
    "    with open(\"nicknameList.txt\", 'w') as f:\t#Abro el archivo nicknameLists.txt en modo escritura\n",
    "        for n in lineas:\t\t\t\t\t\t#Creo un bucle for que va a escribir todos los usuarios restantes en el fichero\n",
    "            f.write(n)\n"
   ]
  },
  {
   "cell_type": "markdown",
   "metadata": {},
   "source": [
    "Por último creo las funciones `recibir()` y `enviar()` del cliente que van a ser las que se van a utilizar para recibir y enviar la información del cliente"
   ]
  },
  {
   "cell_type": "code",
   "execution_count": 9,
   "metadata": {},
   "outputs": [],
   "source": [
    "#Función recibir\n",
    "def recibir(self):\n",
    "    #Te imprime quien es el que está manejando recibir\n",
    "    print('\\nHilo RECIBIR con ID =',threading.currentThread().getName(), '\\n\\tPertenece al PROCESO con PID', os.getpid(), \"\\n\\tHilos activos TOTALES \", threading.active_count())\n",
    "    #Bucle while que va a estar siempre escuchando\n",
    "    while True:\n",
    "        try:\n",
    "            data = self.s.recv(256) #Creo una variable data que recibe el dato de alguien que ha escrito en el chat\n",
    "                #El método es el método receive dentro del socket\n",
    "                #256 --> Es la longitud del mensaje, cuanto más rapido mejor\n",
    "            if data: print(pickle.loads(data)) #Imprimo lo que viene del otro lado de recibir\n",
    "                #El método pickle es para convertir de binario a lenguaje natural\n",
    "        except: pass #Si ocurre un error, que siga dando vueltas\n",
    "\n",
    "#Función enviar\n",
    "#Método send que tiene socket\n",
    "#El método pickle.dumps() convierte de lenguaje natural a binario\n",
    "def enviar(self, msg):\n",
    "    self.s.send(pickle.dumps(self.nickname + \": \" + msg)) #Enviamos un string de la forma \"Usuario: Este es mi mensaje\"\n",
    "\n",
    "    with open(\"u22102041AI1.txt\", \"a\") as f: #Abrimos el archivo de texto para guardar también el mensaje de forma que haya un log de arhcivos\n",
    "        f.write(self.nickname + \": \" + msg + \"\\n\") #Escribimos en el fichero el mensaje"
   ]
  },
  {
   "cell_type": "markdown",
   "metadata": {},
   "source": [
    "Y ya para terminar el archivo `cliente.py` vamos a instanciar un objeto `Cliente()` llamado `arrancar`"
   ]
  },
  {
   "cell_type": "code",
   "execution_count": null,
   "metadata": {},
   "outputs": [],
   "source": [
    "arrancar = Cliente() #Inicializamos el cliente"
   ]
  },
  {
   "cell_type": "markdown",
   "metadata": {},
   "source": [
    "### `Servidor.py`\n",
    "\n",
    "Importamos las bibliotecas que vamos a utilizar en el archivo\n"
   ]
  },
  {
   "cell_type": "code",
   "execution_count": 12,
   "metadata": {},
   "outputs": [],
   "source": [
    "#El servidor tiene más codigo porque tiene que recibir info de quien se conecta y se desconecta\n",
    "\n",
    "import os  # Recibes info de los cores, los hilos...\n",
    "import pickle #Pasar a binario de forma mas rapida\n",
    "import socket #Para hablar con otra consola\n",
    "import sys  #Te metes al sistema y sales, para hablar con él, puedes recibir info del sistema operativo\n",
    "import threading # Instanciar hilos para realizar múltiples tareas simultáneamente"
   ]
  },
  {
   "cell_type": "markdown",
   "metadata": {},
   "source": [
    "Ahora creo una clase `class Servidor()` con un método `__init__()` como he hecho anteriormente en la clase `Cliente`"
   ]
  },
  {
   "cell_type": "code",
   "execution_count": null,
   "metadata": {},
   "outputs": [],
   "source": [
    "class Servidor(): #Creo una clase en vez de una función, no puedo llamarla más adelante\n",
    "\t#Un ejemplo de funcion sería el de multiplicación de matrices\n",
    "\n",
    "\t#Función para inicializarlo, necesitamos un host y un puerto\n",
    "\tdef __init__(self, host=socket.gethostname(), port=int(input(\"Que puerto quiere usar ? \"))):\n",
    "\t\tself.clientes = [] #Array cualquiera que vamos a depositar los clientes\n",
    "\t\t#NO EXISTE LÍMITE PARA HILOS, DEPENDE DE LA VERSIÓN DE PYTHON\n",
    "\t\tprint('\\nSu IP actual es : ',socket.gethostbyname(host))\n",
    "\t\tprint('\\n\\tProceso con PID = ',os.getpid(), '\\n\\tHilo PRINCIPAL con ID =',threading.currentThread().getName(), '\\n\\tHilo en modo DAEMON = ', threading.currentThread().isDaemon(), '\\n\\tTotal Hilos activos en este punto del programa =', threading.active_count())\n",
    "\t\tself.s = socket.socket() #Creo el socket\n",
    "\t\tself.s.bind((str(host), int(port))) #\"Bindeo\" (Enlazo/Conecto) el host y el puerto\n",
    "\t\tself.s.listen(30) #El servidor está esperando, le decimos que se ponga a la escucha\n",
    "\t\t\t#30 --> Veces que va a intentar conectarse hasta parar\n",
    "\t\tself.s.setblocking(False) #Pongo setblocking en false, el servidor va a recibir hilos de muchos lados\n",
    "\t\t\t#cuando tengo muchos hilos intentando conectarse a la vez ocurren deadlocks...\n",
    "\t\t\t#Le estamos diciendo que no se bloquee\n",
    "\n",
    "\t\tthreading.Thread(target=self.aceptarC, daemon=True).start()\n",
    "\t\tthreading.Thread(target=self.procesarC, daemon=True).start()\n",
    "\n",
    "\t\t#Bucle true con opción de apagar sevidor\n",
    "\t\twhile True:\n",
    "\t\t\tmsg = input('\\n << SALIR = 1 >> \\n')\n",
    "\t\t\tif msg == '1':\n",
    "\t\t\t\tprint(\" **** Me piro vampiro; cierro socket y mato SERVER con PID = \", os.getpid())\n",
    "\t\t\t\t#Dejo libre el socket\n",
    "\t\t\t\twith open(\"nicknameList.txt\", \"w\") as f: \t\t\t\t\t##Creación del archivo donde vamos a guardar las cosas\n",
    "\t\t\t\t\tf.write(\" \")\n",
    "\t\t\t\tself.s.close()\n",
    "\t\t\t\tsys.exit()\n",
    "\t\t\telse: pass"
   ]
  },
  {
   "cell_type": "markdown",
   "metadata": {},
   "source": [
    "Una de las funciones que se van a arrancar en los hilos es la función `aceptarC()` la cual va a intentar obtener del servidor, un objeto llamado `conn` (connection) de tipo `Socket` y una tupla llamada `addr` (address) que es la misma que le hemos mandado antes (ip, puerto)\n",
    "De esta coneción vamos hacer lo siguiente\n",
    "1. Establecer el bloqueo en falso\n",
    "2. Meter el cliente en el array `clientes` (atributo del objeto servidor)\n",
    "3. Imprimir la lista de nicknames\n",
    "\n",
    "Todo esto va a estar dentro de un try catch por si no recibimos ninguna información y dentro de un bucle while para que se ejecuta constantemente"
   ]
  },
  {
   "cell_type": "code",
   "execution_count": 13,
   "metadata": {},
   "outputs": [],
   "source": [
    "def aceptarC(self):\n",
    "    print('\\nHilo ACEPTAR con ID =',threading.currentThread().getName(), '\\n\\tHilo en modo DAEMON = ', threading.currentThread().isDaemon(),'\\n\\tPertenece al PROCESO con PID', os.getpid(), \"\\n\\tHilos activos TOTALES \", threading.active_count())\n",
    "    \n",
    "    while True:\n",
    "        try:\n",
    "            conn, addr = self.s.accept() #Acepto la conexión\n",
    "            print(f\"\\nConexion aceptada via {addr}\\n \") #Imprimo todas las especificaciones técnicas (Protocolo UTP, UDP, bluetooth)\n",
    "            #Para poder hacer el broadcast más adelante\n",
    "            conn.setblocking(False) #Pongo el bloque a false\n",
    "            self.clientes.append(conn) #Meto el cliente al array de clientes\n",
    "            self.readNick()\n",
    "        except: pass #Excepciones del try catch, \"pasamos del problema a la siguiente linea\" "
   ]
  },
  {
   "cell_type": "markdown",
   "metadata": {},
   "source": [
    "Una de las funciones que he creado nuevas para cumplir con los nuevos requisitos del programa es la función `readNick()` la cual va a leer del archivo `nicknameList.txt` y va a imprimir la lista entera de clientes (son los conectados actualmente)"
   ]
  },
  {
   "cell_type": "code",
   "execution_count": 15,
   "metadata": {},
   "outputs": [],
   "source": [
    "def readNick(self):\n",
    "    with open(\"nicknameList.txt\", \"r\") as f: \t\t\t\t\t\t\t##Creación del archivo donde vamos a guardar las cosas\n",
    "        print(\"Clientes conectados ahora [\\n\"+f.read()+\"]\")"
   ]
  },
  {
   "cell_type": "markdown",
   "metadata": {},
   "source": [
    "La otra función que se instancia en hilos es la función `procesarC()`  la cual va a imprimir el estado actual del programa y luego va a tener un pucle infinito en el que va a hacer lo siguiente:\n",
    "1. Verifica que la longitud del array clientes sea mayor a 0 para continuar (Esto significa que hay al menos 1 cliente conectado)\n",
    "2. Recorre mediante un bucle for en array cleintes verificando si ha recibido alguna información de estos\n",
    "     \n",
    "     Esto está rodeado por un `try catch` por si ocurre algún error o no se recibe información\n",
    "3. Si se recibe información, la guardamos en `data` y la enviamos a todos los usuarios conectamos gracias al método `self.broadcast()` que estará explicado a continuación"
   ]
  },
  {
   "cell_type": "code",
   "execution_count": 17,
   "metadata": {},
   "outputs": [],
   "source": [
    "def procesarC(self): #Función procesar\n",
    "    #Imrpime información\n",
    "    print('\\nHilo PROCESAR con ID =',threading.currentThread().getName(), '\\n\\tHilo en modo DAEMON = ', threading.currentThread().isDaemon(),'\\n\\tPertenece al PROCESO con PID', os.getpid(), \"\\n\\tHilos activos TOTALES \", threading.active_count())\n",
    "    while True: #Tiene que estar todo el tiempo trabajando\n",
    "        if len(self.clientes) > 0: #Si la longitud de clientes es mayor de 1, hago algo\n",
    "            for c in self.clientes: #El array de clientes se conforma con la conexión y el ADR\n",
    "                try:\n",
    "                    data = c.recv(256) #Data va a recibir 32 caracteres\n",
    "                    if data: self.broadcast(data,c)#Si data es verdadero hago broadcast\n",
    "                except: pass"
   ]
  },
  {
   "cell_type": "markdown",
   "metadata": {},
   "source": [
    "La finalidad de la función `broadcast()` va a ser imprimir la lista de clientes conectados y enviar el mensaje recibido por el servidor al resto de usuarios conectados"
   ]
  },
  {
   "cell_type": "code",
   "execution_count": 19,
   "metadata": {},
   "outputs": [],
   "source": [
    "def broadcast(self, msg, cliente): #\n",
    "    aux = 0\n",
    "    for c in self.clientes: #Recorremos el array clientes\n",
    "        try:\n",
    "            if c != cliente: \n",
    "                if aux == 0:\n",
    "                    print(\"\\nClientes conectados Right now = \", len(self.clientes))\n",
    "                    self.readNick()\n",
    "                    print(pickle.loads(msg))\n",
    "                    aux = 1\n",
    "                c.send(msg) #Enviamos el mensaje al cliente\n",
    "        except: self.clientes.remove(c)"
   ]
  },
  {
   "cell_type": "markdown",
   "metadata": {},
   "source": [
    "Por último instancio el objeto `Servidor` con una variable de nombre `arrancar`"
   ]
  },
  {
   "cell_type": "code",
   "execution_count": null,
   "metadata": {},
   "outputs": [],
   "source": [
    "arrancar = Servidor() "
   ]
  }
 ],
 "metadata": {
  "kernelspec": {
   "display_name": "Python 3.10.7 64-bit",
   "language": "python",
   "name": "python3"
  },
  "language_info": {
   "codemirror_mode": {
    "name": "ipython",
    "version": 3
   },
   "file_extension": ".py",
   "mimetype": "text/x-python",
   "name": "python",
   "nbconvert_exporter": "python",
   "pygments_lexer": "ipython3",
   "version": "3.10.7"
  },
  "orig_nbformat": 4,
  "vscode": {
   "interpreter": {
    "hash": "110fe3fb9777db4ce1f884af3cc527a40b2c98427ad17781c021ef692bd3d28d"
   }
  }
 },
 "nbformat": 4,
 "nbformat_minor": 2
}
